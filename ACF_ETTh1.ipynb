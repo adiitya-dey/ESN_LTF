{
 "cells": [
  {
   "cell_type": "code",
   "execution_count": 1,
   "metadata": {
    "collapsed": false,
    "jupyter": {
     "outputs_hidden": false
    },
    "pycharm": {
     "is_executing": true
    }
   },
   "outputs": [],
   "source": [
    "import pandas as pd\n",
    "import os\n",
    "from sklearn.preprocessing import StandardScaler\n",
    "import matplotlib.pyplot as plt\n",
    "from statsmodels.tsa.stattools import acf\n",
    "import numpy as np\n",
    "from scipy.signal import find_peaks\n",
    "\n",
    "import matplotlib\n",
    "matplotlib.rcParams['pdf.fonttype'] = 42\n",
    "matplotlib.rcParams['ps.fonttype'] = 42"
   ]
  },
  {
   "cell_type": "code",
   "execution_count": 2,
   "metadata": {
    "collapsed": false,
    "jupyter": {
     "outputs_hidden": false
    },
    "pycharm": {
     "is_executing": true
    }
   },
   "outputs": [],
   "source": [
    "df_raw = pd.read_csv('dataset/ETTh1.csv')\n",
    "scaler = StandardScaler()\n",
    "cols_data = df_raw.columns[1:]\n",
    "df_data = df_raw[cols_data]\n",
    "\n",
    "train_data = df_data[:12*30*24]\n",
    "scaler.fit(train_data.values)\n",
    "data = scaler.transform(df_data.values)\n",
    "\n",
    "train_data = data[:12*30*24]\n",
    "test_data = data[16*30*24:20*30*24]"
   ]
  },
  {
   "cell_type": "code",
   "execution_count": 3,
   "metadata": {
    "collapsed": false,
    "jupyter": {
     "outputs_hidden": false
    }
   },
   "outputs": [
    {
     "data": {
      "image/png": "[encoded data removed]",
      "text/plain": [
       "<Figure size 300x250 with 1 Axes>"
      ]
     },
     "metadata": {},
     "output_type": "display_data"
    }
   ],
   "source": [
    "# Calculate autocorrelation coefficients\n",
    "acf_values = acf(train_data[:,0], nlags=48)\n",
    "\n",
    "# Plot the bar chart\n",
    "lags = np.arange(len(acf_values))\n",
    "plt.figure(figsize=(3, 2.5))\n",
    "plt.bar(lags, acf_values)  # use bar plot\n",
    "\n",
    "plt.xlim([0, 48])\n",
    "plt.ylim([0, 1])\n",
    "\n",
    "plt.xlabel(\"Lags\", fontsize=12)\n",
    "plt.ylabel(\"Autocorrelation\", fontsize=12)\n",
    "\n",
    "plt.grid(True)\n",
    "plt.show()"
   ]
  },
  {
   "cell_type": "code",
   "execution_count": 4,
   "metadata": {},
   "outputs": [
    {
     "name": "stdout",
     "output_type": "stream",
     "text": [
      "Main period detected at lag: 24\n"
     ]
    }
   ],
   "source": [
    "# Find peaks in autocorrelation function\n",
    "peaks, _ = find_peaks(acf_values)\n",
    "\n",
    "# Identify the lag corresponding to the highest peak\n",
    "main_period = peaks[0]\n",
    "\n",
    "print(\"Main period detected at lag:\", main_period)"
   ]
  }
 ],
 "metadata": {
  "kernelspec": {
   "display_name": "Python 3 (ipykernel)",
   "language": "python",
   "name": "python3"
  },
  "language_info": {
   "codemirror_mode": {
    "name": "ipython",
    "version": 3
   },
   "file_extension": ".py",
   "mimetype": "text/x-python",
   "name": "python",
   "nbconvert_exporter": "python",
   "pygments_lexer": "ipython3",
   "version": "3.8.18"
  }
 },
 "nbformat": 4,
 "nbformat_minor": 4
}
